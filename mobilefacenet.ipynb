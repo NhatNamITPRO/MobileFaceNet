{
 "cells": [
  {
   "cell_type": "code",
   "execution_count": 3,
   "metadata": {
    "_cell_guid": "b1076dfc-b9ad-4769-8c92-a6c4dae69d19",
    "_uuid": "8f2839f25d086af736a60e9eeb907d3b93b6e0e5",
    "execution": {
     "iopub.execute_input": "2024-12-28T13:37:32.089478Z",
     "iopub.status.busy": "2024-12-28T13:37:32.089150Z",
     "iopub.status.idle": "2024-12-28T13:37:32.102367Z",
     "shell.execute_reply": "2024-12-28T13:37:32.101484Z",
     "shell.execute_reply.started": "2024-12-28T13:37:32.089453Z"
    },
    "trusted": true
   },
   "outputs": [],
   "source": [
    "import os\n",
    "import torch\n",
    "import numpy as np\n",
    "from PIL import Image\n",
    "import matplotlib.pyplot as plt\n",
    "\n",
    "def get_subdirectories_paths(parent_path):\n",
    "    \"\"\"\n",
    "    Get a list of paths to subdirectories in a specified directory.\n",
    "\n",
    "    Args:\n",
    "        parent_path (str): Path to the parent directory.\n",
    "\n",
    "    Returns:\n",
    "        list: List of paths to subdirectories.\n",
    "    \"\"\"\n",
    "    # List comprehension to find all subdirectories\n",
    "    return [os.path.join(parent_path, d) for d in os.listdir(parent_path) if os.path.isdir(os.path.join(parent_path, d))]\n",
    "\n",
    "def get_file_paths(parent_path):\n",
    "    \"\"\"\n",
    "    Get a list of paths to all files in a specified directory.\n",
    "\n",
    "    Args:\n",
    "        parent_path (str): Path to the parent directory.\n",
    "\n",
    "    Returns:\n",
    "        list: List of paths to files.\n",
    "    \"\"\"\n",
    "    # List comprehension to find all files\n",
    "    return [os.path.join(parent_path, f) for f in os.listdir(parent_path) if os.path.isfile(os.path.join(parent_path, f))]\n",
    "\n",
    "def load_image(img_path):\n",
    "    \"\"\"\n",
    "    Helper function to load an image and convert it to a numpy array.\n",
    "\n",
    "    Parameters:\n",
    "        img_path (str): Path to the image file.\n",
    "\n",
    "    Returns:\n",
    "        np.ndarray: Loaded image as a numpy array with shape (H, W) for grayscale images\n",
    "                    or (H, W, C) for color images (e.g., RGB or RGBA).\n",
    "    \"\"\"\n",
    "    img = Image.open(img_path)\n",
    "    return np.array(img)\n",
    "\n",
    "def plot_image(image: np.ndarray, title: str = \"Image\", cmap: str = None):\n",
    "    \"\"\"\n",
    "    Plot an image with an optional title and colormap.\n",
    "\n",
    "    Parameters:\n",
    "        image (np.ndarray): The image to plot. Can be 2D (grayscale) or 3D (RGB/RGBA).\n",
    "        title (str): The title of the plot. Default is \"Image\".\n",
    "        cmap (str): Colormap to use if the image is grayscale (2D). Default is None.\n",
    "\n",
    "    Returns:\n",
    "        None\n",
    "    \"\"\"\n",
    "    plt.figure(figsize=(6, 6))\n",
    "    if image.ndim == 2:\n",
    "        plt.imshow(image, cmap=cmap)\n",
    "    else:\n",
    "        plt.imshow(image)\n",
    "    plt.title(title)\n",
    "    plt.axis('off')\n",
    "    plt.show()\n",
    "\n",
    "def save_image(image: np.ndarray, save_path: str):\n",
    "    \"\"\"\n",
    "    Save the image to a specified path.\n",
    "\n",
    "    Parameters:\n",
    "        image (np.ndarray): The image to save. Should be in RGB, RGBA, or grayscale format.\n",
    "        save_path (str): Path to save the image, including the filename and extension.\n",
    "    \n",
    "    Returns:\n",
    "        None\n",
    "    \"\"\"\n",
    "    # Create directory if it does not exist\n",
    "    os.makedirs(os.path.dirname(save_path), exist_ok=True)\n",
    "\n",
    "    # Check if the input is a numpy array\n",
    "    if not isinstance(image, np.ndarray):\n",
    "        raise TypeError(\"Input must be a numpy array.\")\n",
    "\n",
    "    # Convert numpy array to Image object\n",
    "    try:\n",
    "        img_to_save = Image.fromarray(image)\n",
    "    except ValueError as e:\n",
    "        raise ValueError(\"Failed to convert numpy array to image. Ensure the array format is correct.\") from e\n",
    "\n",
    "    # Save image to the specified path\n",
    "    try:\n",
    "        img_to_save.save(save_path)\n",
    "        print(f\"Image successfully saved at: {save_path}\")\n",
    "    except Exception as e:\n",
    "        raise IOError(f\"Failed to save image at {save_path}.\") from e\n",
    "\n",
    "def plot_loss(losses, output_dir=\"output\"):\n",
    "    \"\"\"\n",
    "    Plot the loss over iterations and save the plot as a PNG image.\n",
    "\n",
    "    Parameters:\n",
    "        losses (list or np.ndarray): List or array of loss values for each iteration.\n",
    "        output_dir (str): Directory to save the plot image. Default is \"output\".\n",
    "    \n",
    "    Returns:\n",
    "        None\n",
    "    \"\"\"\n",
    "    # Check if losses is not empty\n",
    "    if not losses:\n",
    "        raise ValueError(\"The 'losses' list is empty. Cannot plot loss.\")\n",
    "\n",
    "    # Create output directory if it does not exist\n",
    "    os.makedirs(output_dir, exist_ok=True)\n",
    "\n",
    "    # Create the plot\n",
    "    figure, ax = plt.subplots()\n",
    "    ax.plot(losses, label='Loss', color='blue')\n",
    "    ax.set_xlabel('Iteration')\n",
    "    ax.set_ylabel('Loss')\n",
    "    ax.set_title('Loss per Iteration')\n",
    "    ax.legend()\n",
    "\n",
    "    # Save the plot image\n",
    "    save_path = os.path.join(output_dir, \"loss.png\")\n",
    "    figure.savefig(save_path)\n",
    "    print(f\"Loss plot saved at: {save_path}\")\n",
    "    plt.close(figure)  # Close the figure to free up resources\n",
    "\n",
    "def histogram(dct, x_label=\"Labels\", y_label=\"Count\", title=\"Number of Items per Label\"):\n",
    "    \"\"\"\n",
    "    Plot a histogram from a dictionary of label counts.\n",
    "\n",
    "    Parameters:\n",
    "        dct (dict): Dictionary with labels as keys and counts as values.\n",
    "        x_label (str): Label for the x-axis. Default is \"Labels\".\n",
    "        y_label (str): Label for the y-axis. Default is \"Count\".\n",
    "        title (str): Title of the histogram. Default is \"Number of Items per Label\".\n",
    "    \n",
    "    Returns:\n",
    "        None\n",
    "    \"\"\"\n",
    "    plt.figure(figsize=(20, 8))\n",
    "    plt.bar(dct.keys(), dct.values(), color='blue')\n",
    "    plt.xticks(rotation=90)\n",
    "    plt.xlabel(x_label)\n",
    "    plt.ylabel(y_label)\n",
    "    plt.title(title)\n",
    "    plt.tight_layout()\n",
    "    plt.show()\n",
    "\n",
    "\n",
    "def save_checkpoint(state, filename='checkpoint.pth.tar'):\n",
    "    torch.save(state, filename)\n",
    "\n",
    "def load_checkpoint(filename='checkpoint.pth.tar', device='cpu'):\n",
    "    if os.path.isfile(filename):\n",
    "        checkpoint = torch.load(filename,weights_only=True, map_location=device)\n",
    "        return checkpoint\n",
    "    else:\n",
    "        return None"
   ]
  },
  {
   "cell_type": "code",
   "execution_count": 4,
   "metadata": {
    "execution": {
     "iopub.execute_input": "2024-12-28T13:37:32.103892Z",
     "iopub.status.busy": "2024-12-28T13:37:32.103598Z",
     "iopub.status.idle": "2024-12-28T13:37:35.322335Z",
     "shell.execute_reply": "2024-12-28T13:37:35.321259Z",
     "shell.execute_reply.started": "2024-12-28T13:37:32.103865Z"
    },
    "trusted": true
   },
   "outputs": [
    {
     "name": "stdout",
     "output_type": "stream",
     "text": [
      "Requirement already satisfied: mtcnn in /usr/local/lib/python3.10/dist-packages (1.0.0)\n",
      "Requirement already satisfied: joblib>=1.4.2 in /usr/local/lib/python3.10/dist-packages (from mtcnn) (1.4.2)\n",
      "Requirement already satisfied: lz4>=4.3.3 in /usr/local/lib/python3.10/dist-packages (from mtcnn) (4.3.3)\n"
     ]
    }
   ],
   "source": [
    "!pip install mtcnn"
   ]
  },
  {
   "cell_type": "code",
   "execution_count": 5,
   "metadata": {
    "execution": {
     "iopub.execute_input": "2024-12-28T13:37:35.324721Z",
     "iopub.status.busy": "2024-12-28T13:37:35.324386Z",
     "iopub.status.idle": "2024-12-28T13:37:44.230007Z",
     "shell.execute_reply": "2024-12-28T13:37:44.229081Z",
     "shell.execute_reply.started": "2024-12-28T13:37:35.324691Z"
    },
    "trusted": true
   },
   "outputs": [],
   "source": [
    "import os\n",
    "import cv2\n",
    "import numpy as np\n",
    "from mtcnn import MTCNN\n",
    "\n",
    "def align_face(image, landmarks, H, W):\n",
    "    \"\"\"\n",
    "    Aligns a face in an image based on detected facial landmarks.\n",
    "\n",
    "    Parameters:\n",
    "    image (numpy.ndarray): The input image containing the face to be aligned.\n",
    "    landmarks (dict): A dictionary containing the detected facial landmarks with keys:\n",
    "                      'left_eye', 'right_eye', 'nose', 'mouth_left', 'mouth_right'.\n",
    "    H (int): The desired height of the output aligned image.\n",
    "    W (int): The desired width of the output aligned image.\n",
    "\n",
    "    Returns:\n",
    "    numpy.ndarray: The aligned face image with dimensions (H, W).\n",
    "    \"\"\"\n",
    "\n",
    "    # Standard facial landmarks (center of the eyes, tip of the nose, corners of the mouth)\n",
    "    desired_landmarks = np.array([\n",
    "        [0.381 * W, 0.517 * H],  # Left eye\n",
    "        [0.735 * W, 0.515 * H],  # Right eye\n",
    "        [0.560 * W, 0.717 * H],  # Tip of the nose\n",
    "        [0.415 * W, 0.924 * H],  # Left mouth corner\n",
    "        [0.707 * W, 0.922 * H]   # Right mouth corner\n",
    "    ], dtype=np.float32)\n",
    "\n",
    "    # Detected landmarks from MTCNN\n",
    "    detected_landmarks = np.float32([\n",
    "        landmarks['left_eye'],\n",
    "        landmarks['right_eye'],\n",
    "        landmarks['nose'],\n",
    "        landmarks['mouth_left'],\n",
    "        landmarks['mouth_right']\n",
    "    ])\n",
    "    \n",
    "    # Calculate the affine transformation matrix\n",
    "    transformation_matrix, _ = cv2.estimateAffinePartial2D(detected_landmarks, desired_landmarks, method=cv2.LMEDS)\n",
    "    \n",
    "    # Apply the transformation to align the face\n",
    "    aligned_image = cv2.warpAffine(image, transformation_matrix, (W, H))\n",
    "    \n",
    "    return aligned_image\n",
    "\n",
    "def preprocess_face(dataset, prs_face=\"dataset/face/processed\", not_prs_face=\"dataset/face/not_processed\", H=112, W=112):\n",
    "    \"\"\"\n",
    "    Preprocess faces in a dataset by detecting and aligning them.\n",
    "\n",
    "    Parameters:\n",
    "    dataset (str): Path to the dataset directory.\n",
    "    prs_face (str): Path to save the processed face images. Default is \"dataset/face/processed\".\n",
    "    not_prs_face (str): Path to save the images that do not contain faces. Default is \"dataset/face/not_processed\".\n",
    "    H (int): The desired height of the output aligned image. Default is 112.\n",
    "    W (int): The desired width of the output aligned image. Default is 112.\n",
    "\n",
    "    Returns:\n",
    "    None\n",
    "    \"\"\"\n",
    "    detector = MTCNN()\n",
    "    subs = get_subdirectories_paths(dataset)\n",
    "\n",
    "    for sub in subs:\n",
    "        paths = get_file_paths(sub)\n",
    "        for path in paths:\n",
    "            img = load_image(path)\n",
    "            faces = detector.detect_faces(img)\n",
    "            if len(faces) == 0:\n",
    "                save_image(img, os.path.join(not_prs_face, os.path.basename(sub)[5:], os.path.basename(path)))\n",
    "            else:\n",
    "                for face in faces:\n",
    "                    box = face['box']\n",
    "                    landmarks = face['keypoints']\n",
    "\n",
    "                    # Crop face from the original image\n",
    "                    x, y, width, height = box\n",
    "                    face_image = img[y:y+height, x:x+width]\n",
    "\n",
    "                    # Adjust the coordinates of the landmarks according to the cropped region\n",
    "                    adjusted_landmarks = {\n",
    "                        'left_eye': (landmarks['left_eye'][0] - x, landmarks['left_eye'][1] - y),\n",
    "                        'right_eye': (landmarks['right_eye'][0] - x, landmarks['right_eye'][1] - y),\n",
    "                        'nose': (landmarks['nose'][0] - x, landmarks['nose'][1] - y),\n",
    "                        'mouth_left': (landmarks['mouth_left'][0] - x, landmarks['mouth_left'][1] - y),\n",
    "                        'mouth_right': (landmarks['mouth_right'][0] - x, landmarks['mouth_right'][1] - y)\n",
    "                    }\n",
    "\n",
    "                    # Align the face\n",
    "                    aligned_face = align_face(face_image, adjusted_landmarks, H, W)\n",
    "                    save_image(aligned_face, os.path.join(prs_face, os.path.basename(sub)[5:], os.path.basename(path)))"
   ]
  },
  {
   "cell_type": "code",
   "execution_count": 6,
   "metadata": {
    "execution": {
     "iopub.execute_input": "2024-12-28T13:37:44.231846Z",
     "iopub.status.busy": "2024-12-28T13:37:44.231317Z",
     "iopub.status.idle": "2024-12-28T13:37:45.522205Z",
     "shell.execute_reply": "2024-12-28T13:37:45.521550Z",
     "shell.execute_reply.started": "2024-12-28T13:37:44.231819Z"
    },
    "trusted": true
   },
   "outputs": [],
   "source": [
    "import os\n",
    "import numpy as np\n",
    "from PIL import Image\n",
    "from torch.utils.data import Dataset\n",
    "import torchvision.transforms as transforms\n",
    "import torch\n",
    "\n",
    "class FaceRecognitionDataset(Dataset):\n",
    "    def __init__(self, dataset):\n",
    "        \"\"\"\n",
    "        Dataset class for face recognition.\n",
    "        \n",
    "        Args:\n",
    "            dataset (str): Path to the dataset.\n",
    "        \"\"\"\n",
    "        self.dataset = dataset\n",
    "        self.file_paths = []\n",
    "        self.labels = []\n",
    "        self.dict_label = {}\n",
    "        self.transform = transforms.ToTensor()  \n",
    "        \n",
    "        self._prepare_dataset()\n",
    "\n",
    "    def _prepare_dataset(self):\n",
    "        \"\"\"Internal method to prepare file paths and labels.\"\"\"\n",
    "        subs = get_subdirectories_paths(self.dataset)\n",
    "        for index, sub in enumerate(subs):\n",
    "            self.dict_label[index] = os.path.basename(sub)\n",
    "            file_paths = get_file_paths(sub)\n",
    "            self.file_paths.extend(file_paths)\n",
    "            self.labels.extend([index] * len(file_paths))\n",
    "\n",
    "    def __len__(self):\n",
    "        \"\"\"Return the total number of samples.\"\"\"\n",
    "        return len(self.file_paths)\n",
    "\n",
    "    def __getitem__(self, idx):\n",
    "        \"\"\"\n",
    "        Get an image and its label by index.\n",
    "        \n",
    "        Args:\n",
    "            idx (int): Index of the image and label to return.\n",
    "            \n",
    "        Returns:\n",
    "            tuple: (image, label)\n",
    "        \"\"\"\n",
    "        img_path = self.file_paths[idx]\n",
    "        label = self.labels[idx]\n",
    "        \n",
    "        try:\n",
    "            img = Image.open(img_path).convert('RGB')\n",
    "        except Exception as e:\n",
    "            print(f\"Error loading image {img_path}: {e}\")\n",
    "            return None, None\n",
    "        img = np.array(img)\n",
    "        img = (img - 127.5)/128\n",
    "        img = self.transform(img)\n",
    "        return img, label, os.path.basename(img_path)"
   ]
  },
  {
   "cell_type": "code",
   "execution_count": 7,
   "metadata": {
    "execution": {
     "iopub.execute_input": "2024-12-28T13:37:45.523588Z",
     "iopub.status.busy": "2024-12-28T13:37:45.523063Z",
     "iopub.status.idle": "2024-12-28T13:37:45.538725Z",
     "shell.execute_reply": "2024-12-28T13:37:45.537876Z",
     "shell.execute_reply.started": "2024-12-28T13:37:45.523564Z"
    },
    "trusted": true
   },
   "outputs": [],
   "source": [
    "from torch import nn\n",
    "import torch\n",
    "import torch.nn.functional as F\n",
    "from torch.autograd import Variable\n",
    "\n",
    "import math\n",
    "from torch.nn import Parameter\n",
    "bottleneck_setting = [\n",
    "    # t, c , n ,s\n",
    "    [2, 64, 5, 2],\n",
    "    [4, 128, 1, 2],\n",
    "    [2, 128, 6, 1],\n",
    "    [4, 128, 1, 2],\n",
    "    [2, 128, 2, 1]\n",
    "]\n",
    "\n",
    "class Bottleneck(nn.Module):\n",
    "    def __init__(self, inp, oup, stride, expansion):\n",
    "        super(Bottleneck, self).__init__()\n",
    "        self.connect = stride == 1 and inp == oup\n",
    "        self.conv = nn.Sequential(\n",
    "            #pw\n",
    "            nn.Conv2d(inp, inp * expansion, 1, 1, 0, bias=False),\n",
    "            nn.BatchNorm2d(inp * expansion),\n",
    "            nn.PReLU(inp * expansion),\n",
    "            # nn.ReLU(inplace=True),\n",
    "\n",
    "            #dw\n",
    "            nn.Conv2d(inp * expansion, inp * expansion, 3, stride, 1, groups=inp * expansion, bias=False),\n",
    "            nn.BatchNorm2d(inp * expansion),\n",
    "            nn.PReLU(inp * expansion),\n",
    "            # nn.ReLU(inplace=True),\n",
    "\n",
    "            #pw-linear\n",
    "            nn.Conv2d(inp * expansion, oup, 1, 1, 0, bias=False),\n",
    "            nn.BatchNorm2d(oup),\n",
    "        )\n",
    "\n",
    "    def forward(self, x):\n",
    "        if self.connect:\n",
    "            return x + self.conv(x)\n",
    "        else:\n",
    "            return self.conv(x)\n",
    "\n",
    "class ConvBlock(nn.Module):\n",
    "    def __init__(self, inp, oup, k, s, p, dw=False, linear=False, isBN = True):\n",
    "        super(ConvBlock, self).__init__()\n",
    "        self.linear = linear\n",
    "        self.isBN = isBN\n",
    "        if dw:\n",
    "            self.conv = nn.Conv2d(inp, oup, k, s, p, groups=inp, bias=False)\n",
    "        else:\n",
    "            self.conv = nn.Conv2d(inp, oup, k, s, p, bias=False)\n",
    "        if self.isBN:\n",
    "            self.bn = nn.BatchNorm2d(oup)\n",
    "        if not linear:\n",
    "            self.prelu = nn.PReLU(oup)\n",
    "    def forward(self, x):\n",
    "        x = self.conv(x)\n",
    "        if self.isBN:\n",
    "            x = self.bn(x)\n",
    "        if not self.linear:\n",
    "            x = self.prelu(x)\n",
    "        return x\n",
    "\n",
    "\n",
    "\n",
    "class MobileFacenet(nn.Module):\n",
    "    def __init__(self, bottleneck_setting=bottleneck_setting):\n",
    "        super(MobileFacenet, self).__init__()\n",
    "\n",
    "        self.conv1 = ConvBlock(3, 64, 3, 2, 1)\n",
    "\n",
    "        self.dw_conv1 = ConvBlock(64, 64, 3, 1, 1, dw=True)\n",
    "\n",
    "        self.inplanes = 64\n",
    "        block = Bottleneck\n",
    "        self.blocks = self._make_layer(block, bottleneck_setting)\n",
    "\n",
    "        self.conv2 = ConvBlock(128, 512, 1, 1, 0)\n",
    "\n",
    "        self.linear7 = ConvBlock(512, 512, 7, 1, 0, dw=True, linear=True, isBN = False)\n",
    "\n",
    "        self.linear1 = ConvBlock(512, 128, 1, 1, 0, linear=True,isBN = False)\n",
    "        self.output = nn.Linear(128, 105)\n",
    "        \n",
    "        \n",
    "        for m in self.modules():\n",
    "            if isinstance(m, nn.Conv2d):\n",
    "                n = m.kernel_size[0] * m.kernel_size[1] * m.out_channels\n",
    "                m.weight.data.normal_(0, math.sqrt(2. / n))\n",
    "            elif isinstance(m, nn.BatchNorm2d):\n",
    "                m.weight.data.fill_(1)\n",
    "                m.bias.data.zero_()\n",
    "\n",
    "\n",
    "    def _make_layer(self, block, setting):\n",
    "        layers = []\n",
    "        for t, c, n, s in setting:\n",
    "            for i in range(n):\n",
    "                if i == 0:\n",
    "                    layers.append(block(self.inplanes, c, s, t))\n",
    "                else:\n",
    "                    layers.append(block(self.inplanes, c, 1, t))\n",
    "                self.inplanes = c\n",
    "\n",
    "        return nn.Sequential(*layers)\n",
    "\n",
    "    def forward(self, x):\n",
    "        x = self.conv1(x)\n",
    "        x = self.dw_conv1(x)\n",
    "        x = self.blocks(x)\n",
    "        x = self.conv2(x)\n",
    "        x = self.linear7(x)\n",
    "        x = self.linear1(x)\n",
    "        x = x.view(x.size(0), -1)\n",
    "        x = self.output(x)\n",
    "\n",
    "        return x"
   ]
  },
  {
   "cell_type": "markdown",
   "metadata": {},
   "source": [
    "<h2>EDA</h1>"
   ]
  },
  {
   "cell_type": "code",
   "execution_count": 8,
   "metadata": {
    "execution": {
     "iopub.execute_input": "2024-12-28T13:37:45.539977Z",
     "iopub.status.busy": "2024-12-28T13:37:45.539690Z",
     "iopub.status.idle": "2024-12-28T13:38:18.495535Z",
     "shell.execute_reply": "2024-12-28T13:38:18.494690Z",
     "shell.execute_reply.started": "2024-12-28T13:37:45.539945Z"
    },
    "trusted": true
   },
   "outputs": [
    {
     "data": {
      "image/png": "[encoded data removed]",
      "text/plain": [
       "<Figure size 2000x800 with 1 Axes>"
      ]
     },
     "metadata": {},
     "output_type": "display_data"
    }
   ],
   "source": [
    "\n",
    "dataset_path = '/kaggle/input/facedataset/processed'\n",
    "subs = get_subdirectories_paths(dataset_path)\n",
    "file_counts = {os.path.basename(sub) : len(get_file_paths(sub)) for sub in subs}\n",
    "histogram(file_counts)"
   ]
  },
  {
   "cell_type": "markdown",
   "metadata": {},
   "source": [
    "<h1>Training</h1>"
   ]
  },
  {
   "cell_type": "code",
   "execution_count": 9,
   "metadata": {
    "execution": {
     "iopub.execute_input": "2024-12-28T13:38:18.498546Z",
     "iopub.status.busy": "2024-12-28T13:38:18.498207Z",
     "iopub.status.idle": "2024-12-28T13:38:18.503562Z",
     "shell.execute_reply": "2024-12-28T13:38:18.502870Z",
     "shell.execute_reply.started": "2024-12-28T13:38:18.498513Z"
    },
    "trusted": true
   },
   "outputs": [],
   "source": [
    "import torch\n",
    "from torchvision import transforms\n",
    "from torch.utils.data import random_split\n",
    "from torch.utils.data import DataLoader\n",
    "import torch.optim as optim\n",
    "from torch.optim import lr_scheduler\n",
    "from tqdm import tqdm\n",
    "from torch.optim import AdamW\n",
    "\n",
    "DATASET_ROOT = '/kaggle/input/facedataset/processed'\n",
    "BATCH_SIZE = 256\n",
    "EPOCHS = 100\n",
    "CHECK_POINT = None\n",
    "BEST_MODEL = None\n",
    "SAVE_FREQ = 1\n",
    "TEST_FREQ = 1"
   ]
  },
  {
   "cell_type": "code",
   "execution_count": 10,
   "metadata": {
    "execution": {
     "iopub.execute_input": "2024-12-28T13:38:18.504979Z",
     "iopub.status.busy": "2024-12-28T13:38:18.504743Z",
     "iopub.status.idle": "2024-12-28T13:38:25.943800Z",
     "shell.execute_reply": "2024-12-28T13:38:25.943070Z",
     "shell.execute_reply.started": "2024-12-28T13:38:18.504960Z"
    },
    "trusted": true
   },
   "outputs": [],
   "source": [
    "dataset = FaceRecognitionDataset(DATASET_ROOT)"
   ]
  },
  {
   "cell_type": "code",
   "execution_count": 11,
   "metadata": {
    "execution": {
     "iopub.execute_input": "2024-12-28T13:38:25.944882Z",
     "iopub.status.busy": "2024-12-28T13:38:25.944574Z",
     "iopub.status.idle": "2024-12-28T13:38:25.972442Z",
     "shell.execute_reply": "2024-12-28T13:38:25.971642Z",
     "shell.execute_reply.started": "2024-12-28T13:38:25.944852Z"
    },
    "trusted": true
   },
   "outputs": [],
   "source": [
    "train_size = int(0.8 * len(dataset))\n",
    "valid_size = len(dataset) - train_size\n",
    "train_dataset, valid_dataset = random_split(dataset, [train_size, valid_size])"
   ]
  },
  {
   "cell_type": "code",
   "execution_count": 12,
   "metadata": {
    "execution": {
     "iopub.execute_input": "2024-12-28T13:38:25.973468Z",
     "iopub.status.busy": "2024-12-28T13:38:25.973217Z",
     "iopub.status.idle": "2024-12-28T13:38:25.977258Z",
     "shell.execute_reply": "2024-12-28T13:38:25.976342Z",
     "shell.execute_reply.started": "2024-12-28T13:38:25.973437Z"
    },
    "trusted": true
   },
   "outputs": [
    {
     "name": "stdout",
     "output_type": "stream",
     "text": [
      "Train dataset size: 13903\n",
      "Test dataset size: 3476\n"
     ]
    }
   ],
   "source": [
    "print(f'Train dataset size: {len(train_dataset)}')\n",
    "print(f'Test dataset size: {len(valid_dataset)}')"
   ]
  },
  {
   "cell_type": "code",
   "execution_count": 13,
   "metadata": {
    "execution": {
     "iopub.execute_input": "2024-12-28T13:38:25.978122Z",
     "iopub.status.busy": "2024-12-28T13:38:25.977927Z",
     "iopub.status.idle": "2024-12-28T13:38:26.189023Z",
     "shell.execute_reply": "2024-12-28T13:38:26.188170Z",
     "shell.execute_reply.started": "2024-12-28T13:38:25.978105Z"
    },
    "trusted": true
   },
   "outputs": [
    {
     "name": "stdout",
     "output_type": "stream",
     "text": [
      "torch.Size([3, 112, 112])\n",
      "Zoe Saldana85_5052.jpg\n"
     ]
    },
    {
     "data": {
      "image/png": "[encoded data removed]",
      "text/plain": [
       "<Figure size 600x600 with 1 Axes>"
      ]
     },
     "metadata": {},
     "output_type": "display_data"
    }
   ],
   "source": [
    "item = train_dataset[3]\n",
    "print(item[0].shape)\n",
    "print(item[2])\n",
    "plot_image(item[0].permute(1,2,0),title=dataset.dict_label[item[1]])"
   ]
  },
  {
   "cell_type": "code",
   "execution_count": 14,
   "metadata": {
    "execution": {
     "iopub.execute_input": "2024-12-28T13:38:26.190188Z",
     "iopub.status.busy": "2024-12-28T13:38:26.189923Z",
     "iopub.status.idle": "2024-12-28T13:38:26.193912Z",
     "shell.execute_reply": "2024-12-28T13:38:26.193078Z",
     "shell.execute_reply.started": "2024-12-28T13:38:26.190168Z"
    },
    "trusted": true
   },
   "outputs": [],
   "source": [
    "train_dataloader = DataLoader(train_dataset, batch_size=BATCH_SIZE, shuffle=True)\n",
    "valid_dataloader = DataLoader(valid_dataset, batch_size=BATCH_SIZE)"
   ]
  },
  {
   "cell_type": "code",
   "execution_count": 16,
   "metadata": {
    "execution": {
     "iopub.execute_input": "2024-12-28T13:39:15.829829Z",
     "iopub.status.busy": "2024-12-28T13:39:15.829442Z",
     "iopub.status.idle": "2024-12-28T13:39:15.873575Z",
     "shell.execute_reply": "2024-12-28T13:39:15.872922Z",
     "shell.execute_reply.started": "2024-12-28T13:39:15.829800Z"
    },
    "trusted": true
   },
   "outputs": [],
   "source": [
    "device = torch.device(\"cuda\" if torch.cuda.is_available() else \"cpu\")\n",
    "net = MobileFacenet()\n",
    "net = net.to(device) \n",
    "if torch.cuda.device_count() > 1:\n",
    "    net = torch.nn.DataParallel(net)\n",
    "criterion = torch.nn.CrossEntropyLoss()\n",
    "optimizer = AdamW(net.parameters(), lr=1e-4)  "
   ]
  },
  {
   "cell_type": "code",
   "execution_count": 17,
   "metadata": {
    "execution": {
     "iopub.execute_input": "2024-12-28T13:39:17.655611Z",
     "iopub.status.busy": "2024-12-28T13:39:17.655318Z",
     "iopub.status.idle": "2024-12-28T13:39:17.799383Z",
     "shell.execute_reply": "2024-12-28T13:39:17.798699Z",
     "shell.execute_reply.started": "2024-12-28T13:39:17.655586Z"
    },
    "trusted": true
   },
   "outputs": [
    {
     "data": {
      "text/plain": [
       "_IncompatibleKeys(missing_keys=['module.linear7.conv.weight', 'module.linear1.conv.weight', 'module.output.weight', 'module.output.bias'], unexpected_keys=[])"
      ]
     },
     "execution_count": 17,
     "metadata": {},
     "output_type": "execute_result"
    }
   ],
   "source": [
    "ckpt = load_checkpoint(\"/kaggle/input/mobilefacenet/pytorch/default/1/068.ckpt\")\n",
    "state_dict = ckpt['net_state_dict']\n",
    "adjusted_state_dict = {}\n",
    "\n",
    "for k, v in state_dict.items():\n",
    "    if not (k.startswith('linear7') or k.startswith('linear1')):\n",
    "        new_key = 'module.' + k\n",
    "        adjusted_state_dict[new_key] = v\n",
    "\n",
    "net.load_state_dict(adjusted_state_dict, strict=False)"
   ]
  },
  {
   "cell_type": "code",
   "execution_count": 23,
   "metadata": {
    "execution": {
     "iopub.execute_input": "2024-12-28T13:40:26.981207Z",
     "iopub.status.busy": "2024-12-28T13:40:26.980898Z",
     "iopub.status.idle": "2024-12-28T13:40:26.986869Z",
     "shell.execute_reply": "2024-12-28T13:40:26.986023Z",
     "shell.execute_reply.started": "2024-12-28T13:40:26.981179Z"
    },
    "trusted": true
   },
   "outputs": [],
   "source": [
    "import time\n",
    "import torch\n",
    "from tqdm import tqdm\n",
    "\n",
    "def train_per_epoch(net, trainloader, optimizer_ft, criterion, device):\n",
    "    \"\"\"\n",
    "    Train the model for one epoch.\n",
    "\n",
    "    Args:\n",
    "    - net (torch.nn.Module): The neural network model.\n",
    "    - trainloader (torch.utils.data.DataLoader): DataLoader for the training dataset.\n",
    "    - optimizer_ft (torch.optim.Optimizer): The optimizer used for training.\n",
    "    - criterion (torch.nn.Module): The loss function.\n",
    "    - ArcMargin (torch.nn.Module): The ArcMargin layer.\n",
    "    - device (str): The device to run the training on ('cpu' or 'cuda').\n",
    "\n",
    "    Returns:\n",
    "    - avg_train_loss (float): The average training loss for the epoch.\n",
    "    \"\"\"\n",
    "    \n",
    "    net.train()\n",
    "    train_total_loss = 0.0\n",
    "    total = 0\n",
    "    since = time.time()\n",
    "\n",
    "    tqdm_bar = tqdm(trainloader, total=len(trainloader))\n",
    "    for data in tqdm_bar:\n",
    "        img, label = data[0].to(device).float(), data[1].to(device)\n",
    "        batch_size = img.shape[0]\n",
    "        optimizer_ft.zero_grad()\n",
    "\n",
    "        logits = net(img)\n",
    "        total_loss = criterion(logits, label)\n",
    "        total_loss.backward()\n",
    "        optimizer_ft.step()\n",
    "\n",
    "        train_total_loss += total_loss.item() * batch_size\n",
    "        total += batch_size\n",
    "\n",
    "        # Update the progress bar with the current loss\n",
    "        avg_loss = train_total_loss / total\n",
    "        tqdm_bar.set_description(desc=f\"Training Loss: {avg_loss:.5f}\")\n",
    "\n",
    "    avg_train_loss = train_total_loss / total\n",
    "    return avg_train_loss"
   ]
  },
  {
   "cell_type": "code",
   "execution_count": 26,
   "metadata": {
    "execution": {
     "iopub.execute_input": "2024-12-28T13:43:05.072341Z",
     "iopub.status.busy": "2024-12-28T13:43:05.072002Z",
     "iopub.status.idle": "2024-12-28T13:43:05.078526Z",
     "shell.execute_reply": "2024-12-28T13:43:05.077713Z",
     "shell.execute_reply.started": "2024-12-28T13:43:05.072313Z"
    },
    "trusted": true
   },
   "outputs": [],
   "source": [
    "import torch\n",
    "from tqdm import tqdm\n",
    "\n",
    "def test_epoch(net, testloader, criterion, device):\n",
    "    \"\"\"\n",
    "    Evaluate the model on the test dataset for one epoch.\n",
    "\n",
    "    Args:\n",
    "    - net (torch.nn.Module): The neural network model.\n",
    "    - testloader (torch.utils.data.DataLoader): DataLoader for the test dataset.\n",
    "    - criterion (torch.nn.Module): The loss function.\n",
    "    - ArcMargin (torch.nn.Module): The ArcMargin layer.\n",
    "    - device (torch.device): The device to run the evaluation on (CPU or GPU).\n",
    "\n",
    "    Returns:\n",
    "    - test_total_loss (float): The average test loss for the epoch.\n",
    "    - accuracy (float): The accuracy of the model on the test dataset.\n",
    "    \"\"\"\n",
    "\n",
    "    net.eval()\n",
    "    test_total_loss = 0.0\n",
    "    correct = 0\n",
    "    total = 0\n",
    "\n",
    "    with torch.no_grad():  # Không cần tính gradient trong quá trình đánh giá\n",
    "        tqdm_bar = tqdm(testloader, total=len(testloader))\n",
    "        for data in tqdm_bar:\n",
    "            img, label = data[0].to(device).float(), data[1].to(device)\n",
    "            batch_size = img.size(0)\n",
    "\n",
    "            logits = net(img)\n",
    "            total_loss = criterion(logits, label)\n",
    "            test_total_loss += total_loss.item() * batch_size\n",
    "\n",
    "            # Dự đoán nhãn bằng cách lấy lớp có giá trị logit cao nhất\n",
    "            _, predicted = torch.max(logits, 1)\n",
    "            correct += (predicted == label).sum().item()\n",
    "            total += batch_size\n",
    "\n",
    "            # Cập nhật tiến trình chỉ với giá trị loss hiện tại\n",
    "            tqdm_bar.set_description(desc=f\"Test Loss: {total_loss:.5f}\")\n",
    "\n",
    "    test_total_loss /= total\n",
    "    accuracy = correct / total\n",
    "    return test_total_loss, accuracy"
   ]
  },
  {
   "cell_type": "code",
   "execution_count": 28,
   "metadata": {
    "execution": {
     "iopub.execute_input": "2024-12-28T13:45:56.072904Z",
     "iopub.status.busy": "2024-12-28T13:45:56.072536Z",
     "iopub.status.idle": "2024-12-28T14:33:02.863050Z",
     "shell.execute_reply": "2024-12-28T14:33:02.861808Z",
     "shell.execute_reply.started": "2024-12-28T13:45:56.072877Z"
    },
    "trusted": true
   },
   "outputs": [
    {
     "name": "stdout",
     "output_type": "stream",
     "text": [
      "Train Epoch: 0/100 ...\n"
     ]
    },
    {
     "name": "stderr",
     "output_type": "stream",
     "text": [
      "Training Loss: 3.45230: 100%|██████████| 55/55 [00:38<00:00,  1.42it/s]\n",
      "Test Loss: 3.18824: 100%|██████████| 14/14 [00:07<00:00,  1.89it/s]\n"
     ]
    },
    {
     "name": "stdout",
     "output_type": "stream",
     "text": [
      "Epoch [0/100], Test Loss: 3.2038, Accuracy: 0.3078\n",
      "Saving checkpoint: 0\n",
      "New best model found at epoch 0 with accuracy 0.3078\n",
      "Train Epoch: 1/100 ...\n"
     ]
    },
    {
     "name": "stderr",
     "output_type": "stream",
     "text": [
      "Training Loss: 2.85653: 100%|██████████| 55/55 [00:33<00:00,  1.65it/s]\n",
      "Test Loss: 2.56049: 100%|██████████| 14/14 [00:07<00:00,  1.99it/s]\n"
     ]
    },
    {
     "name": "stdout",
     "output_type": "stream",
     "text": [
      "Epoch [1/100], Test Loss: 2.5839, Accuracy: 0.5167\n",
      "Saving checkpoint: 1\n",
      "New best model found at epoch 1 with accuracy 0.5167\n",
      "Train Epoch: 2/100 ...\n"
     ]
    },
    {
     "name": "stderr",
     "output_type": "stream",
     "text": [
      "Training Loss: 2.18746: 100%|██████████| 55/55 [00:33<00:00,  1.62it/s]\n",
      "Test Loss: 1.85162: 100%|██████████| 14/14 [00:06<00:00,  2.28it/s]\n"
     ]
    },
    {
     "name": "stdout",
     "output_type": "stream",
     "text": [
      "Epoch [2/100], Test Loss: 1.9211, Accuracy: 0.6674\n",
      "Saving checkpoint: 2\n",
      "New best model found at epoch 2 with accuracy 0.6674\n",
      "Train Epoch: 3/100 ...\n"
     ]
    },
    {
     "name": "stderr",
     "output_type": "stream",
     "text": [
      "Training Loss: 1.54859: 100%|██████████| 55/55 [00:32<00:00,  1.67it/s]\n",
      "Test Loss: 1.32489: 100%|██████████| 14/14 [00:06<00:00,  2.31it/s]\n"
     ]
    },
    {
     "name": "stdout",
     "output_type": "stream",
     "text": [
      "Epoch [3/100], Test Loss: 1.4070, Accuracy: 0.7776\n",
      "Saving checkpoint: 3\n",
      "New best model found at epoch 3 with accuracy 0.7776\n",
      "Train Epoch: 4/100 ...\n"
     ]
    },
    {
     "name": "stderr",
     "output_type": "stream",
     "text": [
      "Training Loss: 1.04707: 100%|██████████| 55/55 [00:33<00:00,  1.65it/s]\n",
      "Test Loss: 0.90764: 100%|██████████| 14/14 [00:05<00:00,  2.46it/s]\n"
     ]
    },
    {
     "name": "stdout",
     "output_type": "stream",
     "text": [
      "Epoch [4/100], Test Loss: 0.9991, Accuracy: 0.8470\n",
      "Saving checkpoint: 4\n",
      "New best model found at epoch 4 with accuracy 0.8470\n",
      "Train Epoch: 5/100 ...\n"
     ]
    },
    {
     "name": "stderr",
     "output_type": "stream",
     "text": [
      "Training Loss: 0.70487: 100%|██████████| 55/55 [00:33<00:00,  1.66it/s]\n",
      "Test Loss: 0.65528: 100%|██████████| 14/14 [00:05<00:00,  2.37it/s]\n"
     ]
    },
    {
     "name": "stdout",
     "output_type": "stream",
     "text": [
      "Epoch [5/100], Test Loss: 0.7575, Accuracy: 0.8737\n",
      "Saving checkpoint: 5\n",
      "New best model found at epoch 5 with accuracy 0.8737\n",
      "Train Epoch: 6/100 ...\n"
     ]
    },
    {
     "name": "stderr",
     "output_type": "stream",
     "text": [
      "Training Loss: 0.48562: 100%|██████████| 55/55 [00:32<00:00,  1.67it/s]\n",
      "Test Loss: 0.49709: 100%|██████████| 14/14 [00:06<00:00,  2.31it/s]\n"
     ]
    },
    {
     "name": "stdout",
     "output_type": "stream",
     "text": [
      "Epoch [6/100], Test Loss: 0.5944, Accuracy: 0.8956\n",
      "Saving checkpoint: 6\n",
      "New best model found at epoch 6 with accuracy 0.8956\n",
      "Train Epoch: 7/100 ...\n"
     ]
    },
    {
     "name": "stderr",
     "output_type": "stream",
     "text": [
      "Training Loss: 0.34530: 100%|██████████| 55/55 [00:33<00:00,  1.66it/s]\n",
      "Test Loss: 0.40633: 100%|██████████| 14/14 [00:05<00:00,  2.43it/s]\n"
     ]
    },
    {
     "name": "stdout",
     "output_type": "stream",
     "text": [
      "Epoch [7/100], Test Loss: 0.4994, Accuracy: 0.9079\n",
      "Saving checkpoint: 7\n",
      "New best model found at epoch 7 with accuracy 0.9079\n",
      "Train Epoch: 8/100 ...\n"
     ]
    },
    {
     "name": "stderr",
     "output_type": "stream",
     "text": [
      "Training Loss: 0.25123: 100%|██████████| 55/55 [00:33<00:00,  1.65it/s]\n",
      "Test Loss: 0.36580: 100%|██████████| 14/14 [00:05<00:00,  2.36it/s]\n"
     ]
    },
    {
     "name": "stdout",
     "output_type": "stream",
     "text": [
      "Epoch [8/100], Test Loss: 0.4485, Accuracy: 0.9091\n",
      "Saving checkpoint: 8\n",
      "New best model found at epoch 8 with accuracy 0.9091\n",
      "Train Epoch: 9/100 ...\n"
     ]
    },
    {
     "name": "stderr",
     "output_type": "stream",
     "text": [
      "Training Loss: 0.18652: 100%|██████████| 55/55 [00:32<00:00,  1.69it/s]\n",
      "Test Loss: 0.31691: 100%|██████████| 14/14 [00:06<00:00,  2.33it/s]\n"
     ]
    },
    {
     "name": "stdout",
     "output_type": "stream",
     "text": [
      "Epoch [9/100], Test Loss: 0.4078, Accuracy: 0.9114\n",
      "Saving checkpoint: 9\n",
      "New best model found at epoch 9 with accuracy 0.9114\n",
      "Train Epoch: 10/100 ...\n"
     ]
    },
    {
     "name": "stderr",
     "output_type": "stream",
     "text": [
      "Training Loss: 0.14143: 100%|██████████| 55/55 [00:33<00:00,  1.62it/s]\n",
      "Test Loss: 0.28488: 100%|██████████| 14/14 [00:06<00:00,  2.29it/s]\n"
     ]
    },
    {
     "name": "stdout",
     "output_type": "stream",
     "text": [
      "Epoch [10/100], Test Loss: 0.3721, Accuracy: 0.9174\n",
      "Saving checkpoint: 10\n",
      "New best model found at epoch 10 with accuracy 0.9174\n",
      "Train Epoch: 11/100 ...\n"
     ]
    },
    {
     "name": "stderr",
     "output_type": "stream",
     "text": [
      "Training Loss: 0.10788: 100%|██████████| 55/55 [00:33<00:00,  1.65it/s]\n",
      "Test Loss: 0.26215: 100%|██████████| 14/14 [00:06<00:00,  2.24it/s]\n"
     ]
    },
    {
     "name": "stdout",
     "output_type": "stream",
     "text": [
      "Epoch [11/100], Test Loss: 0.3554, Accuracy: 0.9189\n",
      "Saving checkpoint: 11\n",
      "New best model found at epoch 11 with accuracy 0.9189\n",
      "Train Epoch: 12/100 ...\n"
     ]
    },
    {
     "name": "stderr",
     "output_type": "stream",
     "text": [
      "Training Loss: 0.08352: 100%|██████████| 55/55 [00:33<00:00,  1.66it/s]\n",
      "Test Loss: 0.25689: 100%|██████████| 14/14 [00:05<00:00,  2.42it/s]\n"
     ]
    },
    {
     "name": "stdout",
     "output_type": "stream",
     "text": [
      "Epoch [12/100], Test Loss: 0.3431, Accuracy: 0.9220\n",
      "Saving checkpoint: 12\n",
      "New best model found at epoch 12 with accuracy 0.9220\n",
      "Train Epoch: 13/100 ...\n"
     ]
    },
    {
     "name": "stderr",
     "output_type": "stream",
     "text": [
      "Training Loss: 0.06444: 100%|██████████| 55/55 [00:34<00:00,  1.59it/s]\n",
      "Test Loss: 0.24989: 100%|██████████| 14/14 [00:05<00:00,  2.35it/s]\n"
     ]
    },
    {
     "name": "stdout",
     "output_type": "stream",
     "text": [
      "Epoch [13/100], Test Loss: 0.3341, Accuracy: 0.9217\n",
      "Saving checkpoint: 13\n",
      "Train Epoch: 14/100 ...\n"
     ]
    },
    {
     "name": "stderr",
     "output_type": "stream",
     "text": [
      "Training Loss: 0.05099: 100%|██████████| 55/55 [00:34<00:00,  1.58it/s]\n",
      "Test Loss: 0.23745: 100%|██████████| 14/14 [00:06<00:00,  2.15it/s]\n"
     ]
    },
    {
     "name": "stdout",
     "output_type": "stream",
     "text": [
      "Epoch [14/100], Test Loss: 0.3254, Accuracy: 0.9241\n",
      "Saving checkpoint: 14\n",
      "New best model found at epoch 14 with accuracy 0.9241\n",
      "Train Epoch: 15/100 ...\n"
     ]
    },
    {
     "name": "stderr",
     "output_type": "stream",
     "text": [
      "Training Loss: 0.04116: 100%|██████████| 55/55 [00:33<00:00,  1.63it/s]\n",
      "Test Loss: 0.23626: 100%|██████████| 14/14 [00:06<00:00,  2.23it/s]\n"
     ]
    },
    {
     "name": "stdout",
     "output_type": "stream",
     "text": [
      "Epoch [15/100], Test Loss: 0.3213, Accuracy: 0.9229\n",
      "Saving checkpoint: 15\n",
      "Train Epoch: 16/100 ...\n"
     ]
    },
    {
     "name": "stderr",
     "output_type": "stream",
     "text": [
      "Training Loss: 0.03341: 100%|██████████| 55/55 [00:34<00:00,  1.58it/s]\n",
      "Test Loss: 0.22250: 100%|██████████| 14/14 [00:06<00:00,  2.30it/s]\n"
     ]
    },
    {
     "name": "stdout",
     "output_type": "stream",
     "text": [
      "Epoch [16/100], Test Loss: 0.3154, Accuracy: 0.9281\n",
      "Saving checkpoint: 16\n",
      "New best model found at epoch 16 with accuracy 0.9281\n",
      "Train Epoch: 17/100 ...\n"
     ]
    },
    {
     "name": "stderr",
     "output_type": "stream",
     "text": [
      "Training Loss: 0.02761: 100%|██████████| 55/55 [00:35<00:00,  1.56it/s]\n",
      "Test Loss: 0.22493: 100%|██████████| 14/14 [00:06<00:00,  2.18it/s]\n"
     ]
    },
    {
     "name": "stdout",
     "output_type": "stream",
     "text": [
      "Epoch [17/100], Test Loss: 0.3148, Accuracy: 0.9264\n",
      "Saving checkpoint: 17\n",
      "Train Epoch: 18/100 ...\n"
     ]
    },
    {
     "name": "stderr",
     "output_type": "stream",
     "text": [
      "Training Loss: 0.02387: 100%|██████████| 55/55 [00:35<00:00,  1.57it/s]\n",
      "Test Loss: 0.21192: 100%|██████████| 14/14 [00:06<00:00,  2.11it/s]\n"
     ]
    },
    {
     "name": "stdout",
     "output_type": "stream",
     "text": [
      "Epoch [18/100], Test Loss: 0.3139, Accuracy: 0.9255\n",
      "Saving checkpoint: 18\n",
      "Train Epoch: 19/100 ...\n"
     ]
    },
    {
     "name": "stderr",
     "output_type": "stream",
     "text": [
      "Training Loss: 0.02018: 100%|██████████| 55/55 [00:35<00:00,  1.56it/s]\n",
      "Test Loss: 0.21182: 100%|██████████| 14/14 [00:06<00:00,  2.31it/s]\n"
     ]
    },
    {
     "name": "stdout",
     "output_type": "stream",
     "text": [
      "Epoch [19/100], Test Loss: 0.3104, Accuracy: 0.9287\n",
      "Saving checkpoint: 19\n",
      "New best model found at epoch 19 with accuracy 0.9287\n",
      "Train Epoch: 20/100 ...\n"
     ]
    },
    {
     "name": "stderr",
     "output_type": "stream",
     "text": [
      "Training Loss: 0.01752: 100%|██████████| 55/55 [00:36<00:00,  1.52it/s]\n",
      "Test Loss: 0.20150: 100%|██████████| 14/14 [00:06<00:00,  2.31it/s]\n"
     ]
    },
    {
     "name": "stdout",
     "output_type": "stream",
     "text": [
      "Epoch [20/100], Test Loss: 0.3117, Accuracy: 0.9272\n",
      "Saving checkpoint: 20\n",
      "Train Epoch: 21/100 ...\n"
     ]
    },
    {
     "name": "stderr",
     "output_type": "stream",
     "text": [
      "Training Loss: 0.01492: 100%|██████████| 55/55 [00:34<00:00,  1.61it/s]\n",
      "Test Loss: 0.20888: 100%|██████████| 14/14 [00:06<00:00,  2.26it/s]\n"
     ]
    },
    {
     "name": "stdout",
     "output_type": "stream",
     "text": [
      "Epoch [21/100], Test Loss: 0.3098, Accuracy: 0.9278\n",
      "Saving checkpoint: 21\n",
      "Train Epoch: 22/100 ...\n"
     ]
    },
    {
     "name": "stderr",
     "output_type": "stream",
     "text": [
      "Training Loss: 0.01348: 100%|██████████| 55/55 [00:34<00:00,  1.58it/s]\n",
      "Test Loss: 0.20752: 100%|██████████| 14/14 [00:06<00:00,  2.33it/s]\n"
     ]
    },
    {
     "name": "stdout",
     "output_type": "stream",
     "text": [
      "Epoch [22/100], Test Loss: 0.3068, Accuracy: 0.9287\n",
      "Saving checkpoint: 22\n",
      "Train Epoch: 23/100 ...\n"
     ]
    },
    {
     "name": "stderr",
     "output_type": "stream",
     "text": [
      "Training Loss: 0.01211: 100%|██████████| 55/55 [00:35<00:00,  1.55it/s]\n",
      "Test Loss: 0.21443: 100%|██████████| 14/14 [00:06<00:00,  2.21it/s]\n"
     ]
    },
    {
     "name": "stdout",
     "output_type": "stream",
     "text": [
      "Epoch [23/100], Test Loss: 0.3086, Accuracy: 0.9289\n",
      "Saving checkpoint: 23\n",
      "New best model found at epoch 23 with accuracy 0.9289\n",
      "Train Epoch: 24/100 ...\n"
     ]
    },
    {
     "name": "stderr",
     "output_type": "stream",
     "text": [
      "Training Loss: 0.01054: 100%|██████████| 55/55 [00:36<00:00,  1.52it/s]\n",
      "Test Loss: 0.21329: 100%|██████████| 14/14 [00:06<00:00,  2.07it/s]\n"
     ]
    },
    {
     "name": "stdout",
     "output_type": "stream",
     "text": [
      "Epoch [24/100], Test Loss: 0.3093, Accuracy: 0.9292\n",
      "Saving checkpoint: 24\n",
      "New best model found at epoch 24 with accuracy 0.9292\n",
      "Train Epoch: 25/100 ...\n"
     ]
    },
    {
     "name": "stderr",
     "output_type": "stream",
     "text": [
      "Training Loss: 0.00972: 100%|██████████| 55/55 [00:35<00:00,  1.53it/s]\n",
      "Test Loss: 0.21831: 100%|██████████| 14/14 [00:05<00:00,  2.44it/s]\n"
     ]
    },
    {
     "name": "stdout",
     "output_type": "stream",
     "text": [
      "Epoch [25/100], Test Loss: 0.3049, Accuracy: 0.9284\n",
      "Saving checkpoint: 25\n",
      "Train Epoch: 26/100 ...\n"
     ]
    },
    {
     "name": "stderr",
     "output_type": "stream",
     "text": [
      "Training Loss: 0.00848: 100%|██████████| 55/55 [00:34<00:00,  1.58it/s]\n",
      "Test Loss: 0.20597: 100%|██████████| 14/14 [00:06<00:00,  2.30it/s]\n"
     ]
    },
    {
     "name": "stdout",
     "output_type": "stream",
     "text": [
      "Epoch [26/100], Test Loss: 0.3074, Accuracy: 0.9295\n",
      "Saving checkpoint: 26\n",
      "New best model found at epoch 26 with accuracy 0.9295\n",
      "Train Epoch: 27/100 ...\n"
     ]
    },
    {
     "name": "stderr",
     "output_type": "stream",
     "text": [
      "Training Loss: 0.00743: 100%|██████████| 55/55 [00:34<00:00,  1.60it/s]\n",
      "Test Loss: 0.20274: 100%|██████████| 14/14 [00:06<00:00,  2.25it/s]\n"
     ]
    },
    {
     "name": "stdout",
     "output_type": "stream",
     "text": [
      "Epoch [27/100], Test Loss: 0.3054, Accuracy: 0.9318\n",
      "Saving checkpoint: 27\n",
      "New best model found at epoch 27 with accuracy 0.9318\n",
      "Train Epoch: 28/100 ...\n"
     ]
    },
    {
     "name": "stderr",
     "output_type": "stream",
     "text": [
      "Training Loss: 0.00674: 100%|██████████| 55/55 [00:33<00:00,  1.64it/s]\n",
      "Test Loss: 0.21244: 100%|██████████| 14/14 [00:05<00:00,  2.36it/s]\n"
     ]
    },
    {
     "name": "stdout",
     "output_type": "stream",
     "text": [
      "Epoch [28/100], Test Loss: 0.3057, Accuracy: 0.9304\n",
      "Saving checkpoint: 28\n",
      "Train Epoch: 29/100 ...\n"
     ]
    },
    {
     "name": "stderr",
     "output_type": "stream",
     "text": [
      "Training Loss: 0.00610: 100%|██████████| 55/55 [00:34<00:00,  1.61it/s]\n",
      "Test Loss: 0.21366: 100%|██████████| 14/14 [00:05<00:00,  2.34it/s]\n"
     ]
    },
    {
     "name": "stdout",
     "output_type": "stream",
     "text": [
      "Epoch [29/100], Test Loss: 0.3060, Accuracy: 0.9301\n",
      "Saving checkpoint: 29\n",
      "Train Epoch: 30/100 ...\n"
     ]
    },
    {
     "name": "stderr",
     "output_type": "stream",
     "text": [
      "Training Loss: 0.00557: 100%|██████████| 55/55 [00:33<00:00,  1.65it/s]\n",
      "Test Loss: 0.20229: 100%|██████████| 14/14 [00:05<00:00,  2.33it/s]\n"
     ]
    },
    {
     "name": "stdout",
     "output_type": "stream",
     "text": [
      "Epoch [30/100], Test Loss: 0.3058, Accuracy: 0.9315\n",
      "Saving checkpoint: 30\n",
      "Train Epoch: 31/100 ...\n"
     ]
    },
    {
     "name": "stderr",
     "output_type": "stream",
     "text": [
      "Training Loss: 0.00525: 100%|██████████| 55/55 [00:32<00:00,  1.68it/s]\n",
      "Test Loss: 0.20494: 100%|██████████| 14/14 [00:05<00:00,  2.43it/s]\n"
     ]
    },
    {
     "name": "stdout",
     "output_type": "stream",
     "text": [
      "Epoch [31/100], Test Loss: 0.3046, Accuracy: 0.9315\n",
      "Saving checkpoint: 31\n",
      "Train Epoch: 32/100 ...\n"
     ]
    },
    {
     "name": "stderr",
     "output_type": "stream",
     "text": [
      "Training Loss: 0.00495: 100%|██████████| 55/55 [00:33<00:00,  1.62it/s]\n",
      "Test Loss: 0.19732: 100%|██████████| 14/14 [00:05<00:00,  2.40it/s]\n"
     ]
    },
    {
     "name": "stdout",
     "output_type": "stream",
     "text": [
      "Epoch [32/100], Test Loss: 0.3077, Accuracy: 0.9312\n",
      "Saving checkpoint: 32\n",
      "Train Epoch: 33/100 ...\n"
     ]
    },
    {
     "name": "stderr",
     "output_type": "stream",
     "text": [
      "Training Loss: 0.00449: 100%|██████████| 55/55 [00:33<00:00,  1.63it/s]\n",
      "Test Loss: 0.20979: 100%|██████████| 14/14 [00:06<00:00,  2.20it/s]\n"
     ]
    },
    {
     "name": "stdout",
     "output_type": "stream",
     "text": [
      "Epoch [33/100], Test Loss: 0.3062, Accuracy: 0.9307\n",
      "Saving checkpoint: 33\n",
      "Train Epoch: 34/100 ...\n"
     ]
    },
    {
     "name": "stderr",
     "output_type": "stream",
     "text": [
      "Training Loss: 0.00414: 100%|██████████| 55/55 [00:33<00:00,  1.63it/s]\n",
      "Test Loss: 0.20447: 100%|██████████| 14/14 [00:05<00:00,  2.40it/s]\n"
     ]
    },
    {
     "name": "stdout",
     "output_type": "stream",
     "text": [
      "Epoch [34/100], Test Loss: 0.3066, Accuracy: 0.9318\n",
      "Saving checkpoint: 34\n",
      "Train Epoch: 35/100 ...\n"
     ]
    },
    {
     "name": "stderr",
     "output_type": "stream",
     "text": [
      "Training Loss: 0.00371: 100%|██████████| 55/55 [00:33<00:00,  1.63it/s]\n",
      "Test Loss: 0.19821: 100%|██████████| 14/14 [00:05<00:00,  2.44it/s]\n"
     ]
    },
    {
     "name": "stdout",
     "output_type": "stream",
     "text": [
      "Epoch [35/100], Test Loss: 0.3076, Accuracy: 0.9310\n",
      "Saving checkpoint: 35\n",
      "Train Epoch: 36/100 ...\n"
     ]
    },
    {
     "name": "stderr",
     "output_type": "stream",
     "text": [
      "Training Loss: 0.00358: 100%|██████████| 55/55 [00:33<00:00,  1.66it/s]\n",
      "Test Loss: 0.19560: 100%|██████████| 14/14 [00:06<00:00,  2.23it/s]\n"
     ]
    },
    {
     "name": "stdout",
     "output_type": "stream",
     "text": [
      "Epoch [36/100], Test Loss: 0.3098, Accuracy: 0.9333\n",
      "Saving checkpoint: 36\n",
      "New best model found at epoch 36 with accuracy 0.9333\n",
      "Train Epoch: 37/100 ...\n"
     ]
    },
    {
     "name": "stderr",
     "output_type": "stream",
     "text": [
      "Training Loss: 0.00335: 100%|██████████| 55/55 [00:33<00:00,  1.66it/s]\n",
      "Test Loss: 0.20236: 100%|██████████| 14/14 [00:05<00:00,  2.43it/s]\n"
     ]
    },
    {
     "name": "stdout",
     "output_type": "stream",
     "text": [
      "Epoch [37/100], Test Loss: 0.3065, Accuracy: 0.9324\n",
      "Saving checkpoint: 37\n",
      "Train Epoch: 38/100 ...\n"
     ]
    },
    {
     "name": "stderr",
     "output_type": "stream",
     "text": [
      "Training Loss: 0.00306: 100%|██████████| 55/55 [00:33<00:00,  1.63it/s]\n",
      "Test Loss: 0.20250: 100%|██████████| 14/14 [00:05<00:00,  2.36it/s]\n"
     ]
    },
    {
     "name": "stdout",
     "output_type": "stream",
     "text": [
      "Epoch [38/100], Test Loss: 0.3073, Accuracy: 0.9335\n",
      "Saving checkpoint: 38\n",
      "New best model found at epoch 38 with accuracy 0.9335\n",
      "Train Epoch: 39/100 ...\n"
     ]
    },
    {
     "name": "stderr",
     "output_type": "stream",
     "text": [
      "Training Loss: 0.00285: 100%|██████████| 55/55 [00:33<00:00,  1.65it/s]\n",
      "Test Loss: 0.19699: 100%|██████████| 14/14 [00:06<00:00,  2.30it/s]\n"
     ]
    },
    {
     "name": "stdout",
     "output_type": "stream",
     "text": [
      "Epoch [39/100], Test Loss: 0.3074, Accuracy: 0.9318\n",
      "Saving checkpoint: 39\n",
      "Train Epoch: 40/100 ...\n"
     ]
    },
    {
     "name": "stderr",
     "output_type": "stream",
     "text": [
      "Training Loss: 0.00276: 100%|██████████| 55/55 [00:33<00:00,  1.66it/s]\n",
      "Test Loss: 0.21083: 100%|██████████| 14/14 [00:06<00:00,  2.29it/s]\n"
     ]
    },
    {
     "name": "stdout",
     "output_type": "stream",
     "text": [
      "Epoch [40/100], Test Loss: 0.3127, Accuracy: 0.9321\n",
      "Saving checkpoint: 40\n",
      "Train Epoch: 41/100 ...\n"
     ]
    },
    {
     "name": "stderr",
     "output_type": "stream",
     "text": [
      "Training Loss: 0.00265: 100%|██████████| 55/55 [00:33<00:00,  1.62it/s]\n",
      "Test Loss: 0.20580: 100%|██████████| 14/14 [00:05<00:00,  2.41it/s]\n"
     ]
    },
    {
     "name": "stdout",
     "output_type": "stream",
     "text": [
      "Epoch [41/100], Test Loss: 0.3101, Accuracy: 0.9321\n",
      "Saving checkpoint: 41\n",
      "Train Epoch: 42/100 ...\n"
     ]
    },
    {
     "name": "stderr",
     "output_type": "stream",
     "text": [
      "Training Loss: 0.00230: 100%|██████████| 55/55 [00:33<00:00,  1.67it/s]\n",
      "Test Loss: 0.19416: 100%|██████████| 14/14 [00:06<00:00,  2.31it/s]\n"
     ]
    },
    {
     "name": "stdout",
     "output_type": "stream",
     "text": [
      "Epoch [42/100], Test Loss: 0.3089, Accuracy: 0.9312\n",
      "Saving checkpoint: 42\n",
      "Train Epoch: 43/100 ...\n"
     ]
    },
    {
     "name": "stderr",
     "output_type": "stream",
     "text": [
      "Training Loss: 0.00224: 100%|██████████| 55/55 [00:33<00:00,  1.65it/s]\n",
      "Test Loss: 0.18992: 100%|██████████| 14/14 [00:05<00:00,  2.44it/s]\n"
     ]
    },
    {
     "name": "stdout",
     "output_type": "stream",
     "text": [
      "Epoch [43/100], Test Loss: 0.3129, Accuracy: 0.9318\n",
      "Saving checkpoint: 43\n",
      "Train Epoch: 44/100 ...\n"
     ]
    },
    {
     "name": "stderr",
     "output_type": "stream",
     "text": [
      "Training Loss: 0.00207: 100%|██████████| 55/55 [00:33<00:00,  1.62it/s]\n",
      "Test Loss: 0.20023: 100%|██████████| 14/14 [00:06<00:00,  2.29it/s]\n"
     ]
    },
    {
     "name": "stdout",
     "output_type": "stream",
     "text": [
      "Epoch [44/100], Test Loss: 0.3102, Accuracy: 0.9327\n",
      "Saving checkpoint: 44\n",
      "Train Epoch: 45/100 ...\n"
     ]
    },
    {
     "name": "stderr",
     "output_type": "stream",
     "text": [
      "Training Loss: 0.00197: 100%|██████████| 55/55 [00:33<00:00,  1.65it/s]\n",
      "Test Loss: 0.19694: 100%|██████████| 14/14 [00:06<00:00,  2.27it/s]\n"
     ]
    },
    {
     "name": "stdout",
     "output_type": "stream",
     "text": [
      "Epoch [45/100], Test Loss: 0.3124, Accuracy: 0.9330\n",
      "Saving checkpoint: 45\n",
      "Train Epoch: 46/100 ...\n"
     ]
    },
    {
     "name": "stderr",
     "output_type": "stream",
     "text": [
      "Training Loss: 0.00185: 100%|██████████| 55/55 [00:33<00:00,  1.65it/s]\n",
      "Test Loss: 0.20410: 100%|██████████| 14/14 [00:05<00:00,  2.42it/s]\n"
     ]
    },
    {
     "name": "stdout",
     "output_type": "stream",
     "text": [
      "Epoch [46/100], Test Loss: 0.3116, Accuracy: 0.9344\n",
      "Saving checkpoint: 46\n",
      "New best model found at epoch 46 with accuracy 0.9344\n",
      "Train Epoch: 47/100 ...\n"
     ]
    },
    {
     "name": "stderr",
     "output_type": "stream",
     "text": [
      "Training Loss: 0.00178: 100%|██████████| 55/55 [00:33<00:00,  1.64it/s]\n",
      "Test Loss: 0.19741: 100%|██████████| 14/14 [00:05<00:00,  2.40it/s]\n"
     ]
    },
    {
     "name": "stdout",
     "output_type": "stream",
     "text": [
      "Epoch [47/100], Test Loss: 0.3101, Accuracy: 0.9335\n",
      "Saving checkpoint: 47\n",
      "Train Epoch: 48/100 ...\n"
     ]
    },
    {
     "name": "stderr",
     "output_type": "stream",
     "text": [
      "Training Loss: 0.00164: 100%|██████████| 55/55 [00:33<00:00,  1.65it/s]\n",
      "Test Loss: 0.19095: 100%|██████████| 14/14 [00:06<00:00,  2.23it/s]\n"
     ]
    },
    {
     "name": "stdout",
     "output_type": "stream",
     "text": [
      "Epoch [48/100], Test Loss: 0.3131, Accuracy: 0.9335\n",
      "Saving checkpoint: 48\n",
      "Train Epoch: 49/100 ...\n"
     ]
    },
    {
     "name": "stderr",
     "output_type": "stream",
     "text": [
      "Training Loss: 0.00159: 100%|██████████| 55/55 [00:33<00:00,  1.64it/s]\n",
      "Test Loss: 0.19425: 100%|██████████| 14/14 [00:05<00:00,  2.46it/s]\n"
     ]
    },
    {
     "name": "stdout",
     "output_type": "stream",
     "text": [
      "Epoch [49/100], Test Loss: 0.3107, Accuracy: 0.9341\n",
      "Saving checkpoint: 49\n",
      "Train Epoch: 50/100 ...\n"
     ]
    },
    {
     "name": "stderr",
     "output_type": "stream",
     "text": [
      "Training Loss: 0.00147: 100%|██████████| 55/55 [00:34<00:00,  1.58it/s]\n",
      "Test Loss: 0.19510: 100%|██████████| 14/14 [00:06<00:00,  2.23it/s]\n"
     ]
    },
    {
     "name": "stdout",
     "output_type": "stream",
     "text": [
      "Epoch [50/100], Test Loss: 0.3159, Accuracy: 0.9335\n",
      "Saving checkpoint: 50\n",
      "Train Epoch: 51/100 ...\n"
     ]
    },
    {
     "name": "stderr",
     "output_type": "stream",
     "text": [
      "Training Loss: 0.00141: 100%|██████████| 55/55 [00:34<00:00,  1.60it/s]\n",
      "Test Loss: 0.19136: 100%|██████████| 14/14 [00:06<00:00,  2.25it/s]\n"
     ]
    },
    {
     "name": "stdout",
     "output_type": "stream",
     "text": [
      "Epoch [51/100], Test Loss: 0.3156, Accuracy: 0.9330\n",
      "Saving checkpoint: 51\n",
      "Train Epoch: 52/100 ...\n"
     ]
    },
    {
     "name": "stderr",
     "output_type": "stream",
     "text": [
      "Training Loss: 0.00140: 100%|██████████| 55/55 [00:34<00:00,  1.61it/s]\n",
      "Test Loss: 0.20139: 100%|██████████| 14/14 [00:06<00:00,  2.24it/s]\n"
     ]
    },
    {
     "name": "stdout",
     "output_type": "stream",
     "text": [
      "Epoch [52/100], Test Loss: 0.3176, Accuracy: 0.9318\n",
      "Saving checkpoint: 52\n",
      "Train Epoch: 53/100 ...\n"
     ]
    },
    {
     "name": "stderr",
     "output_type": "stream",
     "text": [
      "Training Loss: 0.00128: 100%|██████████| 55/55 [00:34<00:00,  1.59it/s]\n",
      "Test Loss: 0.19633: 100%|██████████| 14/14 [00:05<00:00,  2.38it/s]\n"
     ]
    },
    {
     "name": "stdout",
     "output_type": "stream",
     "text": [
      "Epoch [53/100], Test Loss: 0.3159, Accuracy: 0.9312\n",
      "Saving checkpoint: 53\n",
      "Train Epoch: 54/100 ...\n"
     ]
    },
    {
     "name": "stderr",
     "output_type": "stream",
     "text": [
      "Training Loss: 0.00122: 100%|██████████| 55/55 [00:34<00:00,  1.60it/s]\n",
      "Test Loss: 0.19979: 100%|██████████| 14/14 [00:06<00:00,  2.28it/s]\n"
     ]
    },
    {
     "name": "stdout",
     "output_type": "stream",
     "text": [
      "Epoch [54/100], Test Loss: 0.3153, Accuracy: 0.9324\n",
      "Saving checkpoint: 54\n",
      "Train Epoch: 55/100 ...\n"
     ]
    },
    {
     "name": "stderr",
     "output_type": "stream",
     "text": [
      "Training Loss: 0.00122: 100%|██████████| 55/55 [00:34<00:00,  1.58it/s]\n",
      "Test Loss: 0.19898: 100%|██████████| 14/14 [00:05<00:00,  2.37it/s]\n"
     ]
    },
    {
     "name": "stdout",
     "output_type": "stream",
     "text": [
      "Epoch [55/100], Test Loss: 0.3179, Accuracy: 0.9333\n",
      "Saving checkpoint: 55\n",
      "Train Epoch: 56/100 ...\n"
     ]
    },
    {
     "name": "stderr",
     "output_type": "stream",
     "text": [
      "Training Loss: 0.00132: 100%|██████████| 55/55 [00:34<00:00,  1.60it/s]\n",
      "Test Loss: 0.20231: 100%|██████████| 14/14 [00:05<00:00,  2.38it/s]\n"
     ]
    },
    {
     "name": "stdout",
     "output_type": "stream",
     "text": [
      "Epoch [56/100], Test Loss: 0.3197, Accuracy: 0.9361\n",
      "Saving checkpoint: 56\n",
      "New best model found at epoch 56 with accuracy 0.9361\n",
      "Train Epoch: 57/100 ...\n"
     ]
    },
    {
     "name": "stderr",
     "output_type": "stream",
     "text": [
      "Training Loss: 0.00108: 100%|██████████| 55/55 [00:33<00:00,  1.65it/s]\n",
      "Test Loss: 0.20469: 100%|██████████| 14/14 [00:06<00:00,  2.30it/s]\n"
     ]
    },
    {
     "name": "stdout",
     "output_type": "stream",
     "text": [
      "Epoch [57/100], Test Loss: 0.3144, Accuracy: 0.9353\n",
      "Saving checkpoint: 57\n",
      "Train Epoch: 58/100 ...\n"
     ]
    },
    {
     "name": "stderr",
     "output_type": "stream",
     "text": [
      "Training Loss: 0.00101: 100%|██████████| 55/55 [00:34<00:00,  1.61it/s]\n",
      "Test Loss: 0.19983: 100%|██████████| 14/14 [00:05<00:00,  2.34it/s]\n"
     ]
    },
    {
     "name": "stdout",
     "output_type": "stream",
     "text": [
      "Epoch [58/100], Test Loss: 0.3150, Accuracy: 0.9344\n",
      "Saving checkpoint: 58\n",
      "Train Epoch: 59/100 ...\n"
     ]
    },
    {
     "name": "stderr",
     "output_type": "stream",
     "text": [
      "Training Loss: 0.00096: 100%|██████████| 55/55 [00:33<00:00,  1.62it/s]\n",
      "Test Loss: 0.18910: 100%|██████████| 14/14 [00:05<00:00,  2.43it/s]\n"
     ]
    },
    {
     "name": "stdout",
     "output_type": "stream",
     "text": [
      "Epoch [59/100], Test Loss: 0.3177, Accuracy: 0.9338\n",
      "Saving checkpoint: 59\n",
      "Train Epoch: 60/100 ...\n"
     ]
    },
    {
     "name": "stderr",
     "output_type": "stream",
     "text": [
      "Training Loss: 0.00091: 100%|██████████| 55/55 [00:32<00:00,  1.68it/s]\n",
      "Test Loss: 0.19868: 100%|██████████| 14/14 [00:06<00:00,  2.27it/s]\n"
     ]
    },
    {
     "name": "stdout",
     "output_type": "stream",
     "text": [
      "Epoch [60/100], Test Loss: 0.3173, Accuracy: 0.9341\n",
      "Saving checkpoint: 60\n",
      "Train Epoch: 61/100 ...\n"
     ]
    },
    {
     "name": "stderr",
     "output_type": "stream",
     "text": [
      "Training Loss: 0.00094: 100%|██████████| 55/55 [00:33<00:00,  1.64it/s]\n",
      "Test Loss: 0.19499: 100%|██████████| 14/14 [00:05<00:00,  2.49it/s]\n"
     ]
    },
    {
     "name": "stdout",
     "output_type": "stream",
     "text": [
      "Epoch [61/100], Test Loss: 0.3166, Accuracy: 0.9335\n",
      "Saving checkpoint: 61\n",
      "Train Epoch: 62/100 ...\n"
     ]
    },
    {
     "name": "stderr",
     "output_type": "stream",
     "text": [
      "Training Loss: 0.00093: 100%|██████████| 55/55 [00:33<00:00,  1.63it/s]\n",
      "Test Loss: 0.19761: 100%|██████████| 14/14 [00:05<00:00,  2.47it/s]\n"
     ]
    },
    {
     "name": "stdout",
     "output_type": "stream",
     "text": [
      "Epoch [62/100], Test Loss: 0.3259, Accuracy: 0.9335\n",
      "Saving checkpoint: 62\n",
      "Train Epoch: 63/100 ...\n"
     ]
    },
    {
     "name": "stderr",
     "output_type": "stream",
     "text": [
      "Training Loss: 0.00088: 100%|██████████| 55/55 [00:32<00:00,  1.67it/s]\n",
      "Test Loss: 0.18640: 100%|██████████| 14/14 [00:05<00:00,  2.36it/s]\n"
     ]
    },
    {
     "name": "stdout",
     "output_type": "stream",
     "text": [
      "Epoch [63/100], Test Loss: 0.3231, Accuracy: 0.9344\n",
      "Saving checkpoint: 63\n",
      "Train Epoch: 64/100 ...\n"
     ]
    },
    {
     "name": "stderr",
     "output_type": "stream",
     "text": [
      "Training Loss: 0.00080: 100%|██████████| 55/55 [00:33<00:00,  1.64it/s]\n",
      "Test Loss: 0.20037: 100%|██████████| 14/14 [00:06<00:00,  2.25it/s]\n"
     ]
    },
    {
     "name": "stdout",
     "output_type": "stream",
     "text": [
      "Epoch [64/100], Test Loss: 0.3214, Accuracy: 0.9333\n",
      "Saving checkpoint: 64\n",
      "Train Epoch: 65/100 ...\n"
     ]
    },
    {
     "name": "stderr",
     "output_type": "stream",
     "text": [
      "Training Loss: 0.00083: 100%|██████████| 55/55 [00:33<00:00,  1.63it/s]\n",
      "Test Loss: 0.19417: 100%|██████████| 14/14 [00:05<00:00,  2.51it/s]\n"
     ]
    },
    {
     "name": "stdout",
     "output_type": "stream",
     "text": [
      "Epoch [65/100], Test Loss: 0.3226, Accuracy: 0.9344\n",
      "Saving checkpoint: 65\n",
      "Train Epoch: 66/100 ...\n"
     ]
    },
    {
     "name": "stderr",
     "output_type": "stream",
     "text": [
      "Training Loss: 0.00155: 100%|██████████| 55/55 [00:33<00:00,  1.67it/s]\n",
      "Test Loss: 0.21591: 100%|██████████| 14/14 [00:06<00:00,  2.28it/s]\n"
     ]
    },
    {
     "name": "stdout",
     "output_type": "stream",
     "text": [
      "Epoch [66/100], Test Loss: 0.3417, Accuracy: 0.9292\n",
      "Saving checkpoint: 66\n",
      "Train Epoch: 67/100 ...\n"
     ]
    },
    {
     "name": "stderr",
     "output_type": "stream",
     "text": [
      "Training Loss: 0.00111: 100%|██████████| 55/55 [00:33<00:00,  1.64it/s]\n",
      "Test Loss: 0.20425: 100%|██████████| 14/14 [00:05<00:00,  2.46it/s]\n"
     ]
    },
    {
     "name": "stdout",
     "output_type": "stream",
     "text": [
      "Epoch [67/100], Test Loss: 0.3402, Accuracy: 0.9310\n",
      "Saving checkpoint: 67\n",
      "Train Epoch: 68/100 ...\n"
     ]
    },
    {
     "name": "stderr",
     "output_type": "stream",
     "text": [
      "Training Loss: 0.00150: 100%|██████████| 55/55 [00:34<00:00,  1.60it/s]\n",
      "Test Loss: 0.21155: 100%|██████████| 14/14 [00:06<00:00,  2.32it/s]\n"
     ]
    },
    {
     "name": "stdout",
     "output_type": "stream",
     "text": [
      "Epoch [68/100], Test Loss: 0.3339, Accuracy: 0.9327\n",
      "Saving checkpoint: 68\n",
      "Train Epoch: 69/100 ...\n"
     ]
    },
    {
     "name": "stderr",
     "output_type": "stream",
     "text": [
      "Training Loss: 0.00096: 100%|██████████| 55/55 [00:33<00:00,  1.64it/s]\n",
      "Test Loss: 0.21351: 100%|██████████| 14/14 [00:05<00:00,  2.35it/s]\n"
     ]
    },
    {
     "name": "stdout",
     "output_type": "stream",
     "text": [
      "Epoch [69/100], Test Loss: 0.3351, Accuracy: 0.9338\n",
      "Saving checkpoint: 69\n",
      "Train Epoch: 70/100 ...\n"
     ]
    },
    {
     "name": "stderr",
     "output_type": "stream",
     "text": [
      "Training Loss: 0.00065:  62%|██████▏   | 34/55 [00:21<00:13,  1.56it/s]\n"
     ]
    },
    {
     "ename": "KeyboardInterrupt",
     "evalue": "",
     "output_type": "error",
     "traceback": [
      "\u001b[0;31m---------------------------------------------------------------------------\u001b[0m",
      "\u001b[0;31mKeyboardInterrupt\u001b[0m                         Traceback (most recent call last)",
      "\u001b[0;32m<ipython-input-28-9719bfe1a260>\u001b[0m in \u001b[0;36m<cell line: 26>\u001b[0;34m()\u001b[0m\n\u001b[1;32m     27\u001b[0m     \u001b[0mprint\u001b[0m\u001b[0;34m(\u001b[0m\u001b[0;34mf'Train Epoch: {epoch}/{EPOCHS} ...'\u001b[0m\u001b[0;34m)\u001b[0m\u001b[0;34m\u001b[0m\u001b[0;34m\u001b[0m\u001b[0m\n\u001b[1;32m     28\u001b[0m     \u001b[0;31m# Huấn luyện mô hình trong một epoch\u001b[0m\u001b[0;34m\u001b[0m\u001b[0;34m\u001b[0m\u001b[0m\n\u001b[0;32m---> 29\u001b[0;31m     \u001b[0mtrain_total_loss\u001b[0m \u001b[0;34m=\u001b[0m \u001b[0mtrain_per_epoch\u001b[0m\u001b[0;34m(\u001b[0m\u001b[0mnet\u001b[0m\u001b[0;34m,\u001b[0m \u001b[0mtrain_dataloader\u001b[0m\u001b[0;34m,\u001b[0m \u001b[0moptimizer\u001b[0m\u001b[0;34m,\u001b[0m \u001b[0mcriterion\u001b[0m\u001b[0;34m,\u001b[0m \u001b[0mdevice\u001b[0m\u001b[0;34m)\u001b[0m\u001b[0;34m\u001b[0m\u001b[0;34m\u001b[0m\u001b[0m\n\u001b[0m\u001b[1;32m     30\u001b[0m     \u001b[0;31m# Đánh giá mô hình sau mỗi epoch\u001b[0m\u001b[0;34m\u001b[0m\u001b[0;34m\u001b[0m\u001b[0m\n\u001b[1;32m     31\u001b[0m     \u001b[0mtest_total_loss\u001b[0m\u001b[0;34m,\u001b[0m \u001b[0maccuracy\u001b[0m \u001b[0;34m=\u001b[0m \u001b[0mtest_epoch\u001b[0m\u001b[0;34m(\u001b[0m\u001b[0mnet\u001b[0m\u001b[0;34m,\u001b[0m \u001b[0mvalid_dataloader\u001b[0m\u001b[0;34m,\u001b[0m \u001b[0mcriterion\u001b[0m\u001b[0;34m,\u001b[0m \u001b[0mdevice\u001b[0m\u001b[0;34m)\u001b[0m\u001b[0;34m\u001b[0m\u001b[0;34m\u001b[0m\u001b[0m\n",
      "\u001b[0;32m<ipython-input-23-3128efbb1efb>\u001b[0m in \u001b[0;36mtrain_per_epoch\u001b[0;34m(net, trainloader, optimizer_ft, criterion, device)\u001b[0m\n\u001b[1;32m     35\u001b[0m         \u001b[0moptimizer_ft\u001b[0m\u001b[0;34m.\u001b[0m\u001b[0mstep\u001b[0m\u001b[0;34m(\u001b[0m\u001b[0;34m)\u001b[0m\u001b[0;34m\u001b[0m\u001b[0;34m\u001b[0m\u001b[0m\n\u001b[1;32m     36\u001b[0m \u001b[0;34m\u001b[0m\u001b[0m\n\u001b[0;32m---> 37\u001b[0;31m         \u001b[0mtrain_total_loss\u001b[0m \u001b[0;34m+=\u001b[0m \u001b[0mtotal_loss\u001b[0m\u001b[0;34m.\u001b[0m\u001b[0mitem\u001b[0m\u001b[0;34m(\u001b[0m\u001b[0;34m)\u001b[0m \u001b[0;34m*\u001b[0m \u001b[0mbatch_size\u001b[0m\u001b[0;34m\u001b[0m\u001b[0;34m\u001b[0m\u001b[0m\n\u001b[0m\u001b[1;32m     38\u001b[0m         \u001b[0mtotal\u001b[0m \u001b[0;34m+=\u001b[0m \u001b[0mbatch_size\u001b[0m\u001b[0;34m\u001b[0m\u001b[0;34m\u001b[0m\u001b[0m\n\u001b[1;32m     39\u001b[0m \u001b[0;34m\u001b[0m\u001b[0m\n",
      "\u001b[0;31mKeyboardInterrupt\u001b[0m: "
     ]
    }
   ],
   "source": [
    "import torch.optim as optim\n",
    "import torch.nn as nn\n",
    "import os\n",
    "from tqdm import tqdm\n",
    "\n",
    "best_acc = 0.0\n",
    "best_epoch = 0\n",
    "\n",
    "# Tải mô hình tốt nhất để lấy best_acc và best_epoch\n",
    "if BEST_MODEL:\n",
    "    best_ckpt = load_checkpoint(BEST_MODEL, device=device)\n",
    "    if best_ckpt:\n",
    "        best_acc = best_ckpt['accuracy']\n",
    "        best_epoch = best_ckpt['epoch']\n",
    "        print(f\"Best model loaded with accuracy {best_acc:.4f} from epoch {best_epoch}\")\n",
    "\n",
    "# Tải mô hình cuối cùng để tiếp tục huấn luyện\n",
    "start_epoch = 0\n",
    "if CHECK_POINT:\n",
    "    last_ckpt = load_checkpoint(CHECK_POINT, device=device)\n",
    "    if last_ckpt:\n",
    "        net.load_state_dict(last_ckpt['net_state_dict'])\n",
    "        start_epoch = last_ckpt['epoch'] + 1\n",
    "        print(f\"Last model loaded from epoch {last_ckpt['epoch']}\")\n",
    "\n",
    "for epoch in range(start_epoch, EPOCHS + 1):\n",
    "    print(f'Train Epoch: {epoch}/{EPOCHS} ...')\n",
    "    # Huấn luyện mô hình trong một epoch\n",
    "    train_total_loss = train_per_epoch(net, train_dataloader, optimizer, criterion, device)\n",
    "    # Đánh giá mô hình sau mỗi epoch\n",
    "    test_total_loss, accuracy = test_epoch(net, valid_dataloader, criterion, device)\n",
    "    print(f\"Epoch [{epoch}/{EPOCHS}], Test Loss: {test_total_loss:.4f}, Accuracy: {accuracy:.4f}\")\n",
    "    \n",
    "    # Lưu checkpoint của mô hình sau mỗi SAVE_FREQ epoch\n",
    "    if epoch % SAVE_FREQ == 0:\n",
    "        msg = f'Saving checkpoint: {epoch}'\n",
    "        print(msg)\n",
    "        if torch.cuda.device_count() > 1:\n",
    "            net_state_dict = net.module.state_dict()\n",
    "        else:\n",
    "            net_state_dict = net.state_dict()\n",
    "        save_checkpoint({\n",
    "            'epoch': epoch,\n",
    "            'net_state_dict': net_state_dict,\n",
    "            'accuracy': accuracy\n",
    "        }, filename=os.path.join('%03d.ckpt' % epoch))\n",
    "\n",
    "    # Lưu mô hình có độ chính xác cao nhất\n",
    "    if accuracy > best_acc:\n",
    "        best_acc = accuracy\n",
    "        best_epoch = epoch\n",
    "        print(f\"New best model found at epoch {epoch} with accuracy {accuracy:.4f}\")\n",
    "        best_model_path = os.path.join('best_model.pth.tar')\n",
    "        save_checkpoint({\n",
    "            'epoch': epoch,\n",
    "            'net_state_dict': net_state_dict,\n",
    "            'accuracy': best_acc\n",
    "        }, filename=best_model_path)\n",
    "\n",
    "print('Finishing training')\n",
    "print(f\"Best model found at epoch {best_epoch} with accuracy {best_acc:.4f}\")"
   ]
  },
  {
   "cell_type": "code",
   "execution_count": null,
   "metadata": {
    "trusted": true
   },
   "outputs": [],
   "source": []
  }
 ],
 "metadata": {
  "kaggle": {
   "accelerator": "nvidiaTeslaT4",
   "dataSources": [
    {
     "datasetId": 6388389,
     "sourceId": 10318620,
     "sourceType": "datasetVersion"
    },
    {
     "modelId": 202533,
     "modelInstanceId": 180273,
     "sourceId": 211447,
     "sourceType": "modelInstanceVersion"
    }
   ],
   "dockerImageVersionId": 30822,
   "isGpuEnabled": true,
   "isInternetEnabled": true,
   "language": "python",
   "sourceType": "notebook"
  },
  "kernelspec": {
   "display_name": "venv",
   "language": "python",
   "name": "python3"
  },
  "language_info": {
   "codemirror_mode": {
    "name": "ipython",
    "version": 3
   },
   "file_extension": ".py",
   "mimetype": "text/x-python",
   "name": "python",
   "nbconvert_exporter": "python",
   "pygments_lexer": "ipython3",
   "version": "3.11.0"
  }
 },
 "nbformat": 4,
 "nbformat_minor": 4
}
